{
  "cells": [
    {
      "cell_type": "markdown",
      "metadata": {
        "id": "P5kzUfb36WMd",
        "colab_type": "text"
      },
      "source": [
        "# Pyterrier - Example Grid Search\n",
        "\n",
        "# Preparation"
      ]
    },
    {
      "cell_type": "code",
      "metadata": {
        "id": "TejY4gN66TCc",
        "colab_type": "code",
        "outputId": "262dc29e-aa9b-4de6-9014-2887d107417a",
        "colab": {
          "base_uri": "https://localhost:8080/",
          "height": 765
        }
      },
      "source": [
        "#!pip install python-terrier\n",
        "!pip install --upgrade git+https://github.com/terrier-org/pyterrier.git#egg=python-terrier"
      ],
      "execution_count": 1,
      "outputs": [
        {
          "output_type": "stream",
          "text": [
            "Collecting python-terrier\n",
            "  Cloning https://github.com/terrier-org/pyterrier.git to /tmp/pip-install-ootrg_ul/python-terrier\n",
            "  Running command git clone -q https://github.com/terrier-org/pyterrier.git /tmp/pip-install-ootrg_ul/python-terrier\n",
            "Collecting pyjnius~=1.3.0\n",
            "\u001b[?25l  Downloading https://files.pythonhosted.org/packages/d8/50/098cb5fb76fb7c7d99d403226a2a63dcbfb5c129b71b7d0f5200b05de1f0/pyjnius-1.3.0-cp36-cp36m-manylinux2010_x86_64.whl (1.1MB)\n",
            "\u001b[K     |████████████████████████████████| 1.1MB 2.8MB/s \n",
            "\u001b[?25hRequirement already satisfied, skipping upgrade: numpy in /usr/local/lib/python3.6/dist-packages (from python-terrier) (1.18.4)\n",
            "Requirement already satisfied, skipping upgrade: pandas in /usr/local/lib/python3.6/dist-packages (from python-terrier) (1.0.4)\n",
            "Collecting wget\n",
            "  Downloading https://files.pythonhosted.org/packages/47/6a/62e288da7bcda82b935ff0c6cfe542970f04e29c756b0e147251b2fb251f/wget-3.2.zip\n",
            "Collecting pytrec_eval\n",
            "  Downloading https://files.pythonhosted.org/packages/36/0a/5809ba805e62c98f81e19d6007132712945c78e7612c11f61bac76a25ba3/pytrec_eval-0.4.tar.gz\n",
            "Requirement already satisfied, skipping upgrade: tqdm in /usr/local/lib/python3.6/dist-packages (from python-terrier) (4.41.1)\n",
            "Collecting matchpy\n",
            "\u001b[?25l  Downloading https://files.pythonhosted.org/packages/47/95/d265b944ce391bb2fa9982d7506bbb197bb55c5088ea74448a5ffcaeefab/matchpy-0.5.1-py3-none-any.whl (67kB)\n",
            "\u001b[K     |████████████████████████████████| 71kB 6.6MB/s \n",
            "\u001b[?25hCollecting deprecation\n",
            "  Downloading https://files.pythonhosted.org/packages/02/c3/253a89ee03fc9b9682f1541728eb66db7db22148cd94f89ab22528cd1e1b/deprecation-2.1.0-py2.py3-none-any.whl\n",
            "Requirement already satisfied, skipping upgrade: cython in /usr/local/lib/python3.6/dist-packages (from pyjnius~=1.3.0->python-terrier) (0.29.19)\n",
            "Requirement already satisfied, skipping upgrade: six>=1.7.0 in /usr/local/lib/python3.6/dist-packages (from pyjnius~=1.3.0->python-terrier) (1.12.0)\n",
            "Requirement already satisfied, skipping upgrade: pytz>=2017.2 in /usr/local/lib/python3.6/dist-packages (from pandas->python-terrier) (2018.9)\n",
            "Requirement already satisfied, skipping upgrade: python-dateutil>=2.6.1 in /usr/local/lib/python3.6/dist-packages (from pandas->python-terrier) (2.8.1)\n",
            "Collecting multiset<3.0,>=2.0\n",
            "  Downloading https://files.pythonhosted.org/packages/a8/12/813a649f5bc9801865dc6cda95b8f169f784d996322db192907ebe399064/multiset-2.1.1-py2.py3-none-any.whl\n",
            "Collecting hopcroftkarp<2.0,>=1.2\n",
            "  Downloading https://files.pythonhosted.org/packages/6b/56/7b03eba3c43008c490c9d52e69ea5334b65955f66836eb4f1962f3b0d421/hopcroftkarp-1.2.5.tar.gz\n",
            "Requirement already satisfied, skipping upgrade: packaging in /usr/local/lib/python3.6/dist-packages (from deprecation->python-terrier) (20.4)\n",
            "Requirement already satisfied, skipping upgrade: pyparsing>=2.0.2 in /usr/local/lib/python3.6/dist-packages (from packaging->deprecation->python-terrier) (2.4.7)\n",
            "Building wheels for collected packages: python-terrier, wget, pytrec-eval, hopcroftkarp\n",
            "  Building wheel for python-terrier (setup.py) ... \u001b[?25l\u001b[?25hdone\n",
            "  Created wheel for python-terrier: filename=python_terrier-0.1.3-cp36-none-any.whl size=29595 sha256=8ce120bd9f33342a9335a6a50c62a7af372b56e009f689b49daceb1076cda604\n",
            "  Stored in directory: /tmp/pip-ephem-wheel-cache-ge77gm06/wheels/cc/bb/69/836d846a92c787b35ca6478119c0033762ab2b95d866eeb288\n",
            "  Building wheel for wget (setup.py) ... \u001b[?25l\u001b[?25hdone\n",
            "  Created wheel for wget: filename=wget-3.2-cp36-none-any.whl size=9682 sha256=42f53397a620947fedd9e3dbe6c7fff427cde4b293d81f00ca986bff2e98ccd3\n",
            "  Stored in directory: /root/.cache/pip/wheels/40/15/30/7d8f7cea2902b4db79e3fea550d7d7b85ecb27ef992b618f3f\n",
            "  Building wheel for pytrec-eval (setup.py) ... \u001b[?25l\u001b[?25hdone\n",
            "  Created wheel for pytrec-eval: filename=pytrec_eval-0.4-cp36-cp36m-linux_x86_64.whl size=273829 sha256=6693a7d374a09011262da29b1f10de490b73fe4b16b869a0840d6e8a86af018a\n",
            "  Stored in directory: /root/.cache/pip/wheels/58/30/73/8858a1b6e5e2674e2ea85c9904949c06addcf6fd34d59b5ea6\n",
            "  Building wheel for hopcroftkarp (setup.py) ... \u001b[?25l\u001b[?25hdone\n",
            "  Created wheel for hopcroftkarp: filename=hopcroftkarp-1.2.5-py2.py3-none-any.whl size=18092 sha256=f1cc89c23fc8aa59247f7780d7e845e8785daf0cb6246e75e80e163eb85b9fb6\n",
            "  Stored in directory: /root/.cache/pip/wheels/2b/e1/c9/1993c7f7f114b7d3fb2d3e895e02157a7ebf554861e9e54e01\n",
            "Successfully built python-terrier wget pytrec-eval hopcroftkarp\n",
            "Installing collected packages: pyjnius, wget, pytrec-eval, multiset, hopcroftkarp, matchpy, deprecation, python-terrier\n",
            "Successfully installed deprecation-2.1.0 hopcroftkarp-1.2.5 matchpy-0.5.1 multiset-2.1.1 pyjnius-1.3.0 python-terrier-0.1.3 pytrec-eval-0.4 wget-3.2\n"
          ],
          "name": "stdout"
        }
      ]
    },
    {
      "cell_type": "markdown",
      "metadata": {
        "id": "nt9K3eSWc_Zk",
        "colab_type": "text"
      },
      "source": [
        "# Init \n",
        "\n",
        "You must run `pt.init()` before other pyterrier functions and classes\n",
        "\n",
        "Arguments:\n",
        " - `version` - Terrier platform version e.g. `\"5.2\"`    \n",
        " - `mem` - megabytes allocated to Java e.g. `4096`      \n"
      ]
    },
    {
      "cell_type": "code",
      "metadata": {
        "id": "4nt1cgv-6dzf",
        "colab_type": "code",
        "colab": {
          "base_uri": "https://localhost:8080/",
          "height": 85
        },
        "outputId": "7b801c7d-3964-4980-fc3d-8b0dc23748bb"
      },
      "source": [
        "import pyterrier as pt\n",
        "if not pt.started():\n",
        "  pt.init()"
      ],
      "execution_count": 1,
      "outputs": []
    },
    {
      "cell_type": "markdown",
      "metadata": {
        "id": "ZfFfllxN6Vnv",
        "colab_type": "text"
      },
      "source": [
        "Again, we're using the Dataset interface to quickly access a test collection."
      ]
    },
    {
      "cell_type": "code",
      "metadata": {
        "id": "LVboB-IY5Joj",
        "colab_type": "code",
        "colab": {}
      },
      "source": [
        "vaswani = pt.datasets.get_dataset(\"vaswani\")"
      ],
      "execution_count": 2,
      "outputs": []
    },
    {
      "cell_type": "markdown",
      "metadata": {
        "id": "Vxgbi63k64pj",
        "colab_type": "text"
      },
      "source": [
        "# GridSearch - Simple Retrieval Pipeline\n",
        "\n",
        "Тhe `GridSearch` function allows you to empirically maximise a number of parameters. Say I want to tune BM25's \"b\" barameter."
      ]
    },
    {
      "cell_type": "markdown",
      "metadata": {
        "id": "OVmeqAX-67Am",
        "colab_type": "text"
      },
      "source": [
        "First create the BatchRetrieve objects with the configuration you wish to use. I know that, currently, the way to get BM25's \"c\" parameter is to set a control."
      ]
    },
    {
      "cell_type": "code",
      "metadata": {
        "id": "9bMNAVT06j6E",
        "colab_type": "code",
        "colab": {
          "base_uri": "https://localhost:8080/",
          "height": 34
        },
        "outputId": "93e2dd5e-f986-48f4-ed17-e8264341f3c4"
      },
      "source": [
        "BM25 = pt.BatchRetrieve(vaswani.get_index(), wmodel=\"BM25\", controls={\"c\" : 0.75}, id=\"bm25\")"
      ],
      "execution_count": 3,
      "outputs": []
    },
    {
      "cell_type": "markdown",
      "metadata": {
        "id": "ozgSUBhD7I6L",
        "colab_type": "text"
      },
      "source": [
        "Call `pt.GridSearch` with the retrieval transformer, topics, qrels and list of metrics, and a list of parameters to optimise\n",
        "\n"
      ]
    },
    {
      "cell_type": "code",
      "metadata": {
        "id": "8LCmxPtY6j3Q",
        "colab_type": "code",
        "colab": {
          "base_uri": "https://localhost:8080/",
          "height": 142
        },
        "outputId": "d8c64099-b122-47f2-a5be-e86768241b8e"
      },
      "source": [
        "pt.pipelines.GridSearch(BM25, vaswani.get_topics().head(10), vaswani.get_qrels(), {\"bm25\" : {\"c\" : [0, 0.1, 0.2, 0.3, 0.4, 0.5, 0.6, 0.7, 0.8, 0.9, 1 ]}})\n"
      ],
      "execution_count": 4,
      "outputs": [
        {
          "output_type": "stream",
          "name": "stderr",
          "text": [
            "GridSearch: 100%|██████████| 11/11 [00:03<00:00,  3.53it/s]The best ndcg score is: 0.592658\n",
            "The best parameters map is :\n",
            "('bm25', 'c', 0.4)\n",
            "\n"
          ]
        },
        {
          "output_type": "execute_result",
          "data": {
            "text/plain": [
              "(BR(/Users/craigm/.pyterrier/corpora/vaswani/index/data.properties,{'terrierql': 'on', 'parsecontrols': 'on', 'parseql': 'on', 'applypipeline': 'on', 'localmatching': 'on', 'filters': 'on', 'decorate': 'on', 'wmodel': 'BM25', 'c': 0.4},{'querying.processes': 'terrierql:TerrierQLParser,parsecontrols:TerrierQLToControls,parseql:TerrierQLToMatchingQueryTerms,matchopql:MatchingOpQLParser,applypipeline:ApplyTermPipeline,localmatching:LocalManager$ApplyLocalMatching,qe:QueryExpansion,labels:org.terrier.learning.LabelDecorator,filters:LocalManager$PostFilterProcess', 'querying.postfilters': 'decorate:SimpleDecorate,site:SiteFilter,scope:Scope', 'querying.default.controls': 'wmodel:DPH,parsecontrols:on,parseql:on,applypipeline:on,terrierql:on,localmatching:on,filters:on,decorate:on', 'querying.allowed.controls': 'scope,qe,qemodel,start,end,site,scope,applypipeline', 'termpipelines': 'Stopwords,PorterStemmer'}),\n",
              " {'bm25': {'c': 0.4}})"
            ]
          },
          "metadata": {},
          "execution_count": 4
        }
      ]
    },
    {
      "source": [
        "Now we can evaluate this tuned pipelined wrt to an untunted pipeline, and evaluate using the Experiment function. We're comparing both NDCG and MAP metrics, and have asked Experiment to highlight the highest values for each metric."
      ],
      "cell_type": "markdown",
      "metadata": {}
    },
    {
      "cell_type": "code",
      "execution_count": 5,
      "metadata": {},
      "outputs": [
        {
          "output_type": "execute_result",
          "data": {
            "text/plain": [
              "<pandas.io.formats.style.Styler at 0x7ffe7b207cc0>"
            ],
            "text/html": "<style  type=\"text/css\" >\n    #T_d9f3195c_13c6_11eb_8f1c_acde48001122row1_col1 {\n            font-weight:  bold;\n        }    #T_d9f3195c_13c6_11eb_8f1c_acde48001122row1_col2 {\n            font-weight:  bold;\n        }</style><table id=\"T_d9f3195c_13c6_11eb_8f1c_acde48001122\" ><thead>    <tr>        <th class=\"blank level0\" ></th>        <th class=\"col_heading level0 col0\" >name</th>        <th class=\"col_heading level0 col1\" >ndcg</th>        <th class=\"col_heading level0 col2\" >map</th>    </tr></thead><tbody>\n                <tr>\n                        <th id=\"T_d9f3195c_13c6_11eb_8f1c_acde48001122level0_row0\" class=\"row_heading level0 row0\" >0</th>\n                        <td id=\"T_d9f3195c_13c6_11eb_8f1c_acde48001122row0_col0\" class=\"data row0 col0\" >BM25 untuned</td>\n                        <td id=\"T_d9f3195c_13c6_11eb_8f1c_acde48001122row0_col1\" class=\"data row0 col1\" >0.621197</td>\n                        <td id=\"T_d9f3195c_13c6_11eb_8f1c_acde48001122row0_col2\" class=\"data row0 col2\" >0.296517</td>\n            </tr>\n            <tr>\n                        <th id=\"T_d9f3195c_13c6_11eb_8f1c_acde48001122level0_row1\" class=\"row_heading level0 row1\" >1</th>\n                        <td id=\"T_d9f3195c_13c6_11eb_8f1c_acde48001122row1_col0\" class=\"data row1 col0\" >BM25 tuned</td>\n                        <td id=\"T_d9f3195c_13c6_11eb_8f1c_acde48001122row1_col1\" class=\"data row1 col1\" >0.623774</td>\n                        <td id=\"T_d9f3195c_13c6_11eb_8f1c_acde48001122row1_col2\" class=\"data row1 col2\" >0.299185</td>\n            </tr>\n    </tbody></table>"
          },
          "metadata": {},
          "execution_count": 5
        }
      ],
      "source": [
        "BM25_untuned = pt.BatchRetrieve(vaswani.get_index(), wmodel=\"BM25\", controls={\"c\" : 0.75})\n",
        "pt.Experiment([BM25_untuned, BM25], \n",
        "    vaswani.get_topics(), vaswani.get_qrels(), \n",
        "    eval_metrics=[\"ndcg\", \"map\"], \n",
        "    names=[\"BM25 untuned\", \"BM25 tuned\"], highlight=\"bold\")"
      ]
    },
    {
      "source": [
        "Checking the output, its clear that in this case, tuning helped improve performance, as expected."
      ],
      "cell_type": "markdown",
      "metadata": {}
    },
    {
      "source": [
        "# GridSearch for complex ranking pipeline\n",
        "\n",
        "Lets try to tune a more complex example, involving QE. QE has a number of parameters, such as the number of feedback terms and the number of feedback documents.\n",
        "\n",
        "As we have multiple components in our ranker, we need to use different ids for them.\n",
        "\n",
        "Finally, note how we reuse the `bm25_for_qe` ranker for first-pass and second-pass retrieval. In this case, setting BN25's b parameter affects both components."
      ],
      "cell_type": "markdown",
      "metadata": {}
    },
    {
      "cell_type": "code",
      "execution_count": 6,
      "metadata": {},
      "outputs": [],
      "source": [
        "bm25_for_qe = pt.BatchRetrieve(vaswani.get_index(), wmodel=\"BM25\", controls={\"c\" : 0.75}, id=\"bm25_qe\")\n",
        "\n",
        "pipe_qe = bm25_for_qe >> pt.rewrite.Bo1QueryExpansion(vaswani.get_index(), fb_terms=10, fb_docs=3, id=\"bo1\") >> bm25_for_qe\n",
        "\n"
      ]
    },
    {
      "source": [
        "Firstly, lets save the results from the untuned pipeline, so we can compare to them later."
      ],
      "cell_type": "markdown",
      "metadata": {}
    },
    {
      "cell_type": "code",
      "execution_count": 7,
      "metadata": {},
      "outputs": [],
      "source": [
        "default_res = pipe_qe.transform(vaswani.get_topics())"
      ]
    },
    {
      "source": [
        "Now, lets configure our parameter map. We're going to use the `list(range())` syntax as a shorthand to typing out lots of combinations.  We print the param_map to see all the possible values.\n"
      ],
      "cell_type": "markdown",
      "metadata": {}
    },
    {
      "cell_type": "code",
      "execution_count": 8,
      "metadata": {},
      "outputs": [
        {
          "output_type": "stream",
          "name": "stdout",
          "text": [
            "{'bm25_qe': {'c': [0, 0.1, 0.2, 0.3, 0.4, 0.5, 0.6, 0.7, 0.8, 0.9, 1]}, 'bo1': {'fb_terms': [1, 4, 7, 10], 'fb_docs': [2, 8, 14, 20, 26]}}\n"
          ]
        }
      ],
      "source": [
        "param_map = {\n",
        "        \"bm25_qe\" : { \"c\" : [0, 0.1, 0.2, 0.3, 0.4, 0.5, 0.6, 0.7, 0.8, 0.9, 1 ]},\n",
        "        \"bo1\" : { \n",
        "            \"fb_terms\" : list(range(1, 12, 3)), \n",
        "            \"fb_docs\" : list(range(2, 30, 6))\n",
        "        }\n",
        "}\n",
        "print(param_map)"
      ]
    },
    {
      "source": [
        "Now let's run the grid search, and evaluate the outcome. This tuning takes about five minutes on my machine."
      ],
      "cell_type": "markdown",
      "metadata": {}
    },
    {
      "cell_type": "code",
      "execution_count": 9,
      "metadata": {},
      "outputs": [
        {
          "output_type": "stream",
          "name": "stderr",
          "text": [
            "GridSearch: 100%|██████████| 220/220 [02:05<00:00,  1.76it/s]\n",
            "The best ndcg score is: 0.621431\n",
            "The best parameters map is :\n",
            "('bm25_qe', 'c', 0.3)\n",
            "('bo1', 'fb_docs', 26)\n",
            "('bo1', 'fb_terms', 10)\n"
          ]
        },
        {
          "output_type": "execute_result",
          "data": {
            "text/plain": [
              "<pandas.io.formats.style.Styler at 0x7ffe7d7b6e80>"
            ],
            "text/html": "<style  type=\"text/css\" >\n    #T_2ba6be70_13c7_11eb_82f4_acde48001122row1_col1 {\n            font-weight:  bold;\n        }    #T_2ba6be70_13c7_11eb_82f4_acde48001122row1_col2 {\n            font-weight:  bold;\n        }</style><table id=\"T_2ba6be70_13c7_11eb_82f4_acde48001122\" ><thead>    <tr>        <th class=\"blank level0\" ></th>        <th class=\"col_heading level0 col0\" >name</th>        <th class=\"col_heading level0 col1\" >ndcg</th>        <th class=\"col_heading level0 col2\" >map</th>    </tr></thead><tbody>\n                <tr>\n                        <th id=\"T_2ba6be70_13c7_11eb_82f4_acde48001122level0_row0\" class=\"row_heading level0 row0\" >0</th>\n                        <td id=\"T_2ba6be70_13c7_11eb_82f4_acde48001122row0_col0\" class=\"data row0 col0\" >BM25 + QE untuned</td>\n                        <td id=\"T_2ba6be70_13c7_11eb_82f4_acde48001122row0_col1\" class=\"data row0 col1\" >0.624243</td>\n                        <td id=\"T_2ba6be70_13c7_11eb_82f4_acde48001122row0_col2\" class=\"data row0 col2\" >0.304647</td>\n            </tr>\n            <tr>\n                        <th id=\"T_2ba6be70_13c7_11eb_82f4_acde48001122level0_row1\" class=\"row_heading level0 row1\" >1</th>\n                        <td id=\"T_2ba6be70_13c7_11eb_82f4_acde48001122row1_col0\" class=\"data row1 col0\" >BM25 + QE tuned ({'bm25_qe': {'c': 0.3}, 'bo1': {'fb_docs': 26, 'fb_terms': 10}})</td>\n                        <td id=\"T_2ba6be70_13c7_11eb_82f4_acde48001122row1_col1\" class=\"data row1 col1\" >0.631028</td>\n                        <td id=\"T_2ba6be70_13c7_11eb_82f4_acde48001122row1_col2\" class=\"data row1 col2\" >0.307615</td>\n            </tr>\n    </tbody></table>"
          },
          "metadata": {},
          "execution_count": 9
        }
      ],
      "source": [
        "\n",
        "\n",
        "_, best_param_map = pt.pipelines.GridSearch(pipe_qe, vaswani.get_topics().head(10), vaswani.get_qrels(), param_map)\n",
        "\n",
        "pt.Experiment([pt.transformer.SourceTransformer(default_res), pipe_qe], \n",
        "    vaswani.get_topics(), vaswani.get_qrels(), \n",
        "    eval_metrics=[\"ndcg\", \"map\"], \n",
        "    names=[\"BM25 + QE untuned\", \"BM25 + QE tuned (%s)\" % best_param_map], highlight=\"bold\")"
      ]
    },
    {
      "source": [
        "Again, as expected, we see that jointly tuning QE and BM25's b parameter increases effectiveness."
      ],
      "cell_type": "markdown",
      "metadata": {}
    }
  ],
  "metadata": {
    "colab": {
      "name": "Experiment Example.ipynb",
      "provenance": [],
      "collapsed_sections": []
    },
    "kernelspec": {
      "name": "python3",
      "display_name": "Python 3"
    }
  },
  "nbformat": 4,
  "nbformat_minor": 0
}